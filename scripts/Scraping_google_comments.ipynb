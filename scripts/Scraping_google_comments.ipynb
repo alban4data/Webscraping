{
 "cells": [
  {
   "cell_type": "markdown",
   "id": "0974e74b",
   "metadata": {},
   "source": [
    "## Scraping comments on Google"
   ]
  },
  {
   "cell_type": "markdown",
   "id": "e9d9747d",
   "metadata": {},
   "source": [
    "#### What is Web Scraping\n",
    "\n",
    "Web scraping is the process of extracting data from websites. There are several libraries to help you with it, such as:\n",
    "- Beautiful Soup: An excellent tool to parse the DOM, it is simply pulling data out of HTML and XML files\n",
    "- Scrapy: An open-source package for scraping larger datasets at scale\n",
    "- Selenium: Browser automation to help with interacting javascript for complex scraping projects (clicks, scrolls, filling in forms, drag and drop, moving between windows and frames, etc.)\n",
    "\n",
    "We will use Selenium to navigate the page, upload more content, and then use Beautiful Soup to parse the HTML file."
   ]
  },
  {
   "cell_type": "code",
   "execution_count": 142,
   "id": "f3140207",
   "metadata": {},
   "outputs": [],
   "source": [
    "from selenium import webdriver\n",
    "from selenium.webdriver.common.keys import Keys\n",
    "from bs4 import BeautifulSoup\n",
    "import time\n",
    "import pandas as pd\n",
    "from IPython.display import Image"
   ]
  },
  {
   "cell_type": "code",
   "execution_count": 143,
   "id": "72f819f7",
   "metadata": {},
   "outputs": [
    {
     "data": {
      "text/html": [
       "<img src=\"Images/avis_google_jf.PNG\" width=\"700\" height=\"500\"/>"
      ],
      "text/plain": [
       "<IPython.core.display.Image object>"
      ]
     },
     "execution_count": 143,
     "metadata": {},
     "output_type": "execute_result"
    }
   ],
   "source": [
    "Image(url= \"Images/avis_google_jf.PNG\", width=700, height=500)"
   ]
  },
  {
   "cell_type": "code",
   "execution_count": 81,
   "id": "ea183834",
   "metadata": {},
   "outputs": [
    {
     "name": "stderr",
     "output_type": "stream",
     "text": [
      "C:\\Users\\ADURUI~1\\AppData\\Local\\Temp/ipykernel_1844/2361563064.py:1: DeprecationWarning: executable_path has been deprecated, please pass in a Service object\n",
      "  driver = webdriver.Chrome('C:/Program Files/chromedriver.exe')\n"
     ]
    }
   ],
   "source": [
    "driver = webdriver.Chrome('C:/Program Files/chromedriver.exe')"
   ]
  },
  {
   "cell_type": "code",
   "execution_count": 82,
   "id": "dc91edb8",
   "metadata": {},
   "outputs": [],
   "source": [
    "driver.get('https://www.google.com/search?q=jardins+du+faubourg&rlz=1C1ONGR_frFR957FR957&tbm=lcl&ei=aOvSYfz1HoS-a_Xoj4AO&oq=jardins+du+faub&gs_l=psy-ab.3.0.0i512k1l5j0i22i30k1l5.18457.23592.0.25021.21.14.3.4.4.0.99.1031.14.14.0....0...1c.1.64.psy-ab..0.21.1046...38j0i67k1j0i433i131k1j0i512i433k1j0i512i433i131k1j0i10i67k1j0i433i67k1j0i433i457i67k1j0i433i10k1j0i10k1j0i433i131i10k1j0i457i10k1j0i402k1j0i512i457k1.0.5BlT1o7XBmI#lrd=0x47e66fdf207e4a29:0x59364b7dc43f74de,1,,,&rlfi=hd:;si:6428408521653449950,l,ChNqYXJkaW5zIGR1IGZhdWJvdXJnSI7q0NT_roCACFohEAAQARACGAAYARgCIhNqYXJkaW5zIGR1IGZhdWJvdXJnkgEFaG90ZWw,y,Ij3vQYESGNc;mv:[[48.87042047731904,2.3196304188342207],[48.87006052268097,2.3190831811657784]]')"
   ]
  },
  {
   "cell_type": "code",
   "execution_count": 83,
   "id": "4c871f43",
   "metadata": {
    "scrolled": true
   },
   "outputs": [
    {
     "name": "stderr",
     "output_type": "stream",
     "text": [
      "C:\\Users\\ADURUI~1\\AppData\\Local\\Temp/ipykernel_1844/3813326002.py:1: DeprecationWarning: find_element_by_* commands are deprecated. Please use find_element() instead\n",
      "  driver.find_element_by_xpath('//*[@id=\"yDmH0d\"]/c-wiz/div/div/div/div[2]/div[1]/div[4]/form/div/div/button/span').click()\n"
     ]
    }
   ],
   "source": [
    "driver.find_element_by_xpath('//*[@id=\"yDmH0d\"]/c-wiz/div/div/div/div[2]/div[1]/div[4]/form/div/div/button/span').click()"
   ]
  },
  {
   "cell_type": "code",
   "execution_count": 84,
   "id": "7dcd3a18",
   "metadata": {},
   "outputs": [
    {
     "name": "stderr",
     "output_type": "stream",
     "text": [
      "C:\\Users\\ADURUI~1\\AppData\\Local\\Temp/ipykernel_1844/1878633404.py:1: DeprecationWarning: find_element_by_* commands are deprecated. Please use find_element() instead\n",
      "  driver.find_element_by_xpath('//*[@id=\"tsuid9\"]/div/div/a/div/div[2]/span').click()\n"
     ]
    }
   ],
   "source": [
    "driver.find_element_by_xpath('//*[@id=\"tsuid9\"]/div/div/a/div/div[2]/span').click()"
   ]
  },
  {
   "cell_type": "code",
   "execution_count": 85,
   "id": "c66af0eb",
   "metadata": {},
   "outputs": [
    {
     "name": "stderr",
     "output_type": "stream",
     "text": [
      "C:\\Users\\ADURUI~1\\AppData\\Local\\Temp/ipykernel_1844/1460857562.py:1: DeprecationWarning: find_element_by_* commands are deprecated. Please use find_element() instead\n",
      "  driver.find_element_by_xpath('//*[@id=\"akp_tsuid10\"]/div/div[1]/div/div/div/div[1]/div/div[1]/div/div[1]/div/div[2]/div[1]/div/div/span[2]/span/a/span').click()\n"
     ]
    }
   ],
   "source": [
    "driver.find_element_by_xpath('//*[@id=\"akp_tsuid10\"]/div/div[1]/div/div/div/div[1]/div/div[1]/div/div[1]/div/div[2]/div[1]/div/div/span[2]/span/a/span').click()"
   ]
  },
  {
   "cell_type": "code",
   "execution_count": 86,
   "id": "2cebe7ba",
   "metadata": {},
   "outputs": [
    {
     "name": "stderr",
     "output_type": "stream",
     "text": [
      "C:\\Users\\ADURUI~1\\AppData\\Local\\Temp/ipykernel_1844/3317664045.py:1: DeprecationWarning: find_element_by_* commands are deprecated. Please use find_element() instead\n",
      "  driver.find_element_by_xpath('//*[@id=\"reviewSort\"]/div[1]/div[2]/div[1]/div[1]/div[3]/div[1]/span/span[1]/a').click()\n"
     ]
    }
   ],
   "source": [
    "driver.find_element_by_xpath('//*[@id=\"reviewSort\"]/div[1]/div[2]/div[1]/div[1]/div[3]/div[1]/span/span[1]/a').click()"
   ]
  },
  {
   "cell_type": "code",
   "execution_count": 76,
   "id": "57dc5866",
   "metadata": {},
   "outputs": [],
   "source": [
    "# A partir d'ici, le script fonctionne correctement"
   ]
  },
  {
   "cell_type": "code",
   "execution_count": 87,
   "id": "38d6e69f",
   "metadata": {},
   "outputs": [
    {
     "name": "stderr",
     "output_type": "stream",
     "text": [
      "C:\\Users\\ADURUI~1\\AppData\\Local\\Temp/ipykernel_1844/406260625.py:1: DeprecationWarning: find_element_by_* commands are deprecated. Please use find_element() instead\n",
      "  element = driver.find_element_by_xpath('//*[@id=\"reviewSort\"]/div/div[2]/div[1]/div[1]/div[3]/div[1]/span/span[2]')\n"
     ]
    },
    {
     "data": {
      "text/plain": [
       "<selenium.webdriver.remote.webelement.WebElement (session=\"82762ce3f4a97b4c0c345c71b2a98126\", element=\"3afa12b2-072e-4650-b932-cf024dc46d26\")>"
      ]
     },
     "execution_count": 87,
     "metadata": {},
     "output_type": "execute_result"
    }
   ],
   "source": [
    "element = driver.find_element_by_xpath('//*[@id=\"reviewSort\"]/div/div[2]/div[1]/div[1]/div[3]/div[1]/span/span[2]')\n",
    "element"
   ]
  },
  {
   "cell_type": "code",
   "execution_count": 88,
   "id": "628ac4f9",
   "metadata": {},
   "outputs": [
    {
     "name": "stderr",
     "output_type": "stream",
     "text": [
      "C:\\Users\\ADURUI~1\\AppData\\Local\\Temp/ipykernel_1844/2841238453.py:2: DeprecationWarning: find_element_by_* commands are deprecated. Please use find_element() instead\n",
      "  driver.find_element_by_tag_name('body').send_keys(Keys.END)\n"
     ]
    }
   ],
   "source": [
    "driver.execute_script(\"return arguments[0].scrollIntoView();\", element)\n",
    "driver.find_element_by_tag_name('body').send_keys(Keys.END) "
   ]
  },
  {
   "cell_type": "code",
   "execution_count": 89,
   "id": "22780b9d",
   "metadata": {},
   "outputs": [],
   "source": [
    "total_number_of_reviews = 143"
   ]
  },
  {
   "cell_type": "code",
   "execution_count": 90,
   "id": "54e5c9fa",
   "metadata": {},
   "outputs": [
    {
     "name": "stderr",
     "output_type": "stream",
     "text": [
      "C:\\Users\\ADURUI~1\\AppData\\Local\\Temp/ipykernel_1844/739826211.py:2: DeprecationWarning: find_element_by_* commands are deprecated. Please use find_element() instead\n",
      "  driver.find_element_by_tag_name('body').send_keys(Keys.END)\n"
     ]
    }
   ],
   "source": [
    "for i in range(0,(round(total_number_of_reviews/10 - 1))):\n",
    "    driver.find_element_by_tag_name('body').send_keys(Keys.END) \n",
    "    time.sleep(1)"
   ]
  },
  {
   "cell_type": "code",
   "execution_count": 91,
   "id": "9aebccfd",
   "metadata": {},
   "outputs": [],
   "source": [
    "content = driver.page_source\n",
    "soup = BeautifulSoup(content)"
   ]
  },
  {
   "cell_type": "code",
   "execution_count": 130,
   "id": "e9429f2f",
   "metadata": {},
   "outputs": [],
   "source": [
    "review_titles = []\n",
    "for review_title in soup.findAll('div',{'class':'jxjCjc vZZQdd'}):\n",
    "    review_titles.append(review_title)\n",
    "\n"
   ]
  },
  {
   "cell_type": "code",
   "execution_count": 135,
   "id": "069c07ab",
   "metadata": {},
   "outputs": [],
   "source": [
    "reviews = []\n",
    "for review in review_titles:\n",
    "    if 'Jtu6Td dvSRve' in str(review):\n",
    "        review = review.findAll('div',{'class':'Jtu6Td dvSRve'})[0].text.strip()\n",
    "    else:\n",
    "        review = ''\n",
    "    reviews.append(review)\n",
    "        "
   ]
  },
  {
   "cell_type": "code",
   "execution_count": 136,
   "id": "b55e9bd4",
   "metadata": {},
   "outputs": [
    {
     "data": {
      "text/plain": [
       "143"
      ]
     },
     "execution_count": 136,
     "metadata": {},
     "output_type": "execute_result"
    }
   ],
   "source": [
    "len(reviews)"
   ]
  },
  {
   "cell_type": "code",
   "execution_count": 138,
   "id": "6a0fef7d",
   "metadata": {},
   "outputs": [],
   "source": [
    "ratings = []\n",
    "for rating in soup.findAll('span',{'class':'pjemBf'}):\n",
    "    ratings.append(rating.text.strip())"
   ]
  },
  {
   "cell_type": "code",
   "execution_count": 139,
   "id": "8d847508",
   "metadata": {},
   "outputs": [],
   "source": [
    "d1 = {'reviews':reviews,'ratings':ratings}\n",
    "df = pd.DataFrame.from_dict(d1)"
   ]
  },
  {
   "cell_type": "code",
   "execution_count": 141,
   "id": "a5459153",
   "metadata": {},
   "outputs": [
    {
     "data": {
      "text/html": [
       "<div>\n",
       "<style scoped>\n",
       "    .dataframe tbody tr th:only-of-type {\n",
       "        vertical-align: middle;\n",
       "    }\n",
       "\n",
       "    .dataframe tbody tr th {\n",
       "        vertical-align: top;\n",
       "    }\n",
       "\n",
       "    .dataframe thead th {\n",
       "        text-align: right;\n",
       "    }\n",
       "</style>\n",
       "<table border=\"1\" class=\"dataframe\">\n",
       "  <thead>\n",
       "    <tr style=\"text-align: right;\">\n",
       "      <th></th>\n",
       "      <th>reviews</th>\n",
       "      <th>ratings</th>\n",
       "    </tr>\n",
       "  </thead>\n",
       "  <tbody>\n",
       "    <tr>\n",
       "      <th>0</th>\n",
       "      <td>Les plats sont plus que médiocres (viande fila...</td>\n",
       "      <td>1/5</td>\n",
       "    </tr>\n",
       "    <tr>\n",
       "      <th>1</th>\n",
       "      <td>Soins dans ce magnifique SPA une qualité de se...</td>\n",
       "      <td>5/5</td>\n",
       "    </tr>\n",
       "    <tr>\n",
       "      <th>2</th>\n",
       "      <td>Chambre agréable avec une bonne literie bien q...</td>\n",
       "      <td>2/5</td>\n",
       "    </tr>\n",
       "    <tr>\n",
       "      <th>3</th>\n",
       "      <td>Expérience décevanteLa masseuse connaissait vi...</td>\n",
       "      <td>3/5</td>\n",
       "    </tr>\n",
       "    <tr>\n",
       "      <th>4</th>\n",
       "      <td>Une expérience inoubliable ! Un moment de repo...</td>\n",
       "      <td>5/5</td>\n",
       "    </tr>\n",
       "  </tbody>\n",
       "</table>\n",
       "</div>"
      ],
      "text/plain": [
       "                                             reviews ratings\n",
       "0  Les plats sont plus que médiocres (viande fila...     1/5\n",
       "1  Soins dans ce magnifique SPA une qualité de se...     5/5\n",
       "2  Chambre agréable avec une bonne literie bien q...     2/5\n",
       "3  Expérience décevanteLa masseuse connaissait vi...     3/5\n",
       "4  Une expérience inoubliable ! Un moment de repo...     5/5"
      ]
     },
     "execution_count": 141,
     "metadata": {},
     "output_type": "execute_result"
    }
   ],
   "source": [
    "df.head()"
   ]
  },
  {
   "cell_type": "markdown",
   "id": "ba6416a7",
   "metadata": {},
   "source": [
    "    "
   ]
  },
  {
   "cell_type": "markdown",
   "id": "d7c824e8",
   "metadata": {},
   "source": [
    "      "
   ]
  },
  {
   "cell_type": "markdown",
   "id": "c18b9b92",
   "metadata": {},
   "source": [
    "       "
   ]
  },
  {
   "cell_type": "markdown",
   "id": "66fc73f6",
   "metadata": {},
   "source": [
    "        "
   ]
  },
  {
   "cell_type": "markdown",
   "id": "37e5e951",
   "metadata": {},
   "source": [
    "## Scraping comments on Tripadvisor"
   ]
  },
  {
   "cell_type": "markdown",
   "id": "9ff47dc2",
   "metadata": {},
   "source": [
    "Le script ci-dessous va vous permettre aisément de scraper Tripadvisor et de récupérer les données nécessaires à votre analyse. Ce script ne se veut pas exhaustif. C'est un \"quick start\" pour démarrer le scraping sur Tripadvisor.  \n",
    "Avec le code ci-dessous, vous pourrez extraire le titre principal du commentaire, la note associée et le contenu du commentaire. Par la suite, ces données sont consolidées dans un data frame. Par mesure de simplicité, seules les trois premières pages ont été scrapées.\n",
    "Si vous souhaitez scraper l'ensemble des pages, vous devriez parcourir l'ensemble des pages de commentaires de l'hôtel. Il faudra faire attention à mettre un temps de pause aléatoire entre chaque page afin que vous ne soyez détecté en tant que robot. Sinon votre IP risque d'être bloqué. "
   ]
  },
  {
   "cell_type": "code",
   "execution_count": 2,
   "id": "db7a387a",
   "metadata": {},
   "outputs": [],
   "source": [
    "from IPython.display import Image\n",
    "from selenium import webdriver\n",
    "#import requests\n",
    "from bs4 import BeautifulSoup\n",
    "import pandas as pd"
   ]
  },
  {
   "cell_type": "code",
   "execution_count": 6,
   "id": "9507eca4",
   "metadata": {},
   "outputs": [
    {
     "data": {
      "text/html": [
       "<img src=\"Images/commentaires_tripadvisor.PNG\" width=\"700\" height=\"500\"/>"
      ],
      "text/plain": [
       "<IPython.core.display.Image object>"
      ]
     },
     "execution_count": 6,
     "metadata": {},
     "output_type": "execute_result"
    }
   ],
   "source": [
    "Image(url= \"Images/commentaires_tripadvisor.PNG\", width=700, height=500)"
   ]
  },
  {
   "cell_type": "code",
   "execution_count": 2,
   "id": "0b26287f",
   "metadata": {},
   "outputs": [],
   "source": [
    "urls = ['https://www.tripadvisor.in/Hotel_Review-g187147-d220000-Reviews-Hotel_Signature_St_Germain_des_Pres-Paris_Ile_de_France.html#REVIEWS',\n",
    "'https://www.tripadvisor.in/Hotel_Review-g187147-d220000-Reviews-or5-Hotel_Signature_St_Germain_des_Pres-Paris_Ile_de_France.html#REVIEWS',\n",
    "      'https://www.tripadvisor.in/Hotel_Review-g187147-d220000-Reviews-or10-Hotel_Signature_St_Germain_des_Pres-Paris_Ile_de_France.html#REVIEWS']\n",
    "df_final = pd.DataFrame()"
   ]
  },
  {
   "cell_type": "code",
   "execution_count": 16,
   "id": "3ba7f9f8",
   "metadata": {},
   "outputs": [
    {
     "name": "stderr",
     "output_type": "stream",
     "text": [
      "C:\\Users\\ADURUI~1\\AppData\\Local\\Temp/ipykernel_11000/3176702075.py:1: DeprecationWarning: executable_path has been deprecated, please pass in a Service object\n",
      "  driver = webdriver.Chrome('C:/Program Files/chromedriver.exe')\n"
     ]
    }
   ],
   "source": [
    "driver = webdriver.Chrome('C:/Program Files/chromedriver.exe')\n",
    "#url = 'https://www.tripadvisor.in/Hotels-g187147-Paris_Ile_de_France-Hotels.html'\n",
    "#url = 'https://www.tripadvisor.in/Hotel_Review-g187147-d220000-Reviews-Hotel_Signature_St_Germain_des_Pres-Paris_Ile_de_France.html#REVIEWS'\n",
    "\n",
    "for url in range(len(urls)):\n",
    "    driver.get(urls[url])\n",
    "\n",
    "    content = driver.page_source\n",
    "    soup = BeautifulSoup(content)\n",
    "    soup\n",
    "        \n",
    "    review_titles = []\n",
    "    for review_title in soup.findAll('div',{'class':'fpMxB MC _S b S6 H5 _a'}):\n",
    "        review_titles.append(review_title.text.strip())\n",
    "\n",
    "    ratings = []\n",
    "    for rating in soup.findAll('div',{'class':'emWez F1'}):\n",
    "        #print(rating)\n",
    "        ratings.append(str(rating)[92:93])   \n",
    "\n",
    "    comments = []\n",
    "    for comment in soup.findAll('q',{'class':'XllAv H4 _a'}):\n",
    "        comments.append(comment.text.strip())\n",
    "\n",
    "    d1 = {'review_titles':review_titles,'ratings':ratings,'comments':comments}\n",
    "    df = pd.DataFrame.from_dict(d1)\n",
    "    df_final = df_final.append(df)\n",
    "    "
   ]
  },
  {
   "cell_type": "code",
   "execution_count": 17,
   "id": "7d7e3f79",
   "metadata": {},
   "outputs": [
    {
     "data": {
      "text/html": [
       "<div>\n",
       "<style scoped>\n",
       "    .dataframe tbody tr th:only-of-type {\n",
       "        vertical-align: middle;\n",
       "    }\n",
       "\n",
       "    .dataframe tbody tr th {\n",
       "        vertical-align: top;\n",
       "    }\n",
       "\n",
       "    .dataframe thead th {\n",
       "        text-align: right;\n",
       "    }\n",
       "</style>\n",
       "<table border=\"1\" class=\"dataframe\">\n",
       "  <thead>\n",
       "    <tr style=\"text-align: right;\">\n",
       "      <th></th>\n",
       "      <th>review_titles</th>\n",
       "      <th>ratings</th>\n",
       "      <th>comments</th>\n",
       "    </tr>\n",
       "  </thead>\n",
       "  <tbody>\n",
       "    <tr>\n",
       "      <th>0</th>\n",
       "      <td>Cozy Parisian Charm</td>\n",
       "      <td>5</td>\n",
       "      <td>This place is absolutely adorable! The service...</td>\n",
       "    </tr>\n",
       "    <tr>\n",
       "      <th>1</th>\n",
       "      <td>Wonderful hotel with amazing staff</td>\n",
       "      <td>5</td>\n",
       "      <td>What really is the hidden gem of this hotel is...</td>\n",
       "    </tr>\n",
       "    <tr>\n",
       "      <th>2</th>\n",
       "      <td>a charming small hotel</td>\n",
       "      <td>4</td>\n",
       "      <td>We had originally booked to stay here in Decem...</td>\n",
       "    </tr>\n",
       "    <tr>\n",
       "      <th>3</th>\n",
       "      <td>Very nice boutique hotel</td>\n",
       "      <td>5</td>\n",
       "      <td>My husband and I spent 6 nights at this very n...</td>\n",
       "    </tr>\n",
       "    <tr>\n",
       "      <th>4</th>\n",
       "      <td>Just brilliant</td>\n",
       "      <td>5</td>\n",
       "      <td>Ah well Alice, Delphine and Manuela it's time ...</td>\n",
       "    </tr>\n",
       "    <tr>\n",
       "      <th>0</th>\n",
       "      <td>Amazing Staff at a Great Location</td>\n",
       "      <td>5</td>\n",
       "      <td>A perfect location with amazing, attentive sta...</td>\n",
       "    </tr>\n",
       "    <tr>\n",
       "      <th>1</th>\n",
       "      <td>Wonderful!</td>\n",
       "      <td>5</td>\n",
       "      <td>We celebrated our anniversary in Paris, and th...</td>\n",
       "    </tr>\n",
       "    <tr>\n",
       "      <th>2</th>\n",
       "      <td>Perfect</td>\n",
       "      <td>5</td>\n",
       "      <td>Two friends and I spent a week here mid Novemb...</td>\n",
       "    </tr>\n",
       "    <tr>\n",
       "      <th>3</th>\n",
       "      <td>Wonderful boutique hotel</td>\n",
       "      <td>5</td>\n",
       "      <td>I loved my stay from beginning to end. The com...</td>\n",
       "    </tr>\n",
       "    <tr>\n",
       "      <th>4</th>\n",
       "      <td>Exceptional Boutique Hotel</td>\n",
       "      <td>5</td>\n",
       "      <td>My room overlooking the courtyard was lovely a...</td>\n",
       "    </tr>\n",
       "    <tr>\n",
       "      <th>0</th>\n",
       "      <td>Perfect experience</td>\n",
       "      <td>5</td>\n",
       "      <td>We visited Paris in mid-October 2021 and staye...</td>\n",
       "    </tr>\n",
       "    <tr>\n",
       "      <th>1</th>\n",
       "      <td>Excellent Stay!</td>\n",
       "      <td>5</td>\n",
       "      <td>My daughter and I had an excellent time stayin...</td>\n",
       "    </tr>\n",
       "    <tr>\n",
       "      <th>2</th>\n",
       "      <td>Just right for us</td>\n",
       "      <td>5</td>\n",
       "      <td>We returned to this hotel for our 3rd stay bec...</td>\n",
       "    </tr>\n",
       "    <tr>\n",
       "      <th>3</th>\n",
       "      <td>Comfortable and warm home away from home✨</td>\n",
       "      <td>5</td>\n",
       "      <td>My mom and I recently stayed at Hotel Signatur...</td>\n",
       "    </tr>\n",
       "    <tr>\n",
       "      <th>4</th>\n",
       "      <td>Tres Chic</td>\n",
       "      <td>5</td>\n",
       "      <td>This hotel is in a wonderful locations, lots o...</td>\n",
       "    </tr>\n",
       "  </tbody>\n",
       "</table>\n",
       "</div>"
      ],
      "text/plain": [
       "                               review_titles ratings  \\\n",
       "0                        Cozy Parisian Charm       5   \n",
       "1         Wonderful hotel with amazing staff       5   \n",
       "2                     a charming small hotel       4   \n",
       "3                   Very nice boutique hotel       5   \n",
       "4                             Just brilliant       5   \n",
       "0          Amazing Staff at a Great Location       5   \n",
       "1                                 Wonderful!       5   \n",
       "2                                    Perfect       5   \n",
       "3                   Wonderful boutique hotel       5   \n",
       "4                 Exceptional Boutique Hotel       5   \n",
       "0                         Perfect experience       5   \n",
       "1                            Excellent Stay!       5   \n",
       "2                          Just right for us       5   \n",
       "3  Comfortable and warm home away from home✨       5   \n",
       "4                                  Tres Chic       5   \n",
       "\n",
       "                                            comments  \n",
       "0  This place is absolutely adorable! The service...  \n",
       "1  What really is the hidden gem of this hotel is...  \n",
       "2  We had originally booked to stay here in Decem...  \n",
       "3  My husband and I spent 6 nights at this very n...  \n",
       "4  Ah well Alice, Delphine and Manuela it's time ...  \n",
       "0  A perfect location with amazing, attentive sta...  \n",
       "1  We celebrated our anniversary in Paris, and th...  \n",
       "2  Two friends and I spent a week here mid Novemb...  \n",
       "3  I loved my stay from beginning to end. The com...  \n",
       "4  My room overlooking the courtyard was lovely a...  \n",
       "0  We visited Paris in mid-October 2021 and staye...  \n",
       "1  My daughter and I had an excellent time stayin...  \n",
       "2  We returned to this hotel for our 3rd stay bec...  \n",
       "3  My mom and I recently stayed at Hotel Signatur...  \n",
       "4  This hotel is in a wonderful locations, lots o...  "
      ]
     },
     "execution_count": 17,
     "metadata": {},
     "output_type": "execute_result"
    }
   ],
   "source": [
    "df_final"
   ]
  },
  {
   "cell_type": "code",
   "execution_count": 18,
   "id": "8e2b8a7e",
   "metadata": {},
   "outputs": [],
   "source": [
    "df_final.reset_index(drop=True, inplace=True)"
   ]
  }
 ],
 "metadata": {
  "kernelspec": {
   "display_name": "Python 3 (ipykernel)",
   "language": "python",
   "name": "python3"
  },
  "language_info": {
   "codemirror_mode": {
    "name": "ipython",
    "version": 3
   },
   "file_extension": ".py",
   "mimetype": "text/x-python",
   "name": "python",
   "nbconvert_exporter": "python",
   "pygments_lexer": "ipython3",
   "version": "3.9.7"
  }
 },
 "nbformat": 4,
 "nbformat_minor": 5
}
